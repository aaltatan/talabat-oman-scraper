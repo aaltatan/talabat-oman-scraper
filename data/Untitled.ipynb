{
 "cells": [
  {
   "cell_type": "code",
   "execution_count": 2,
   "id": "618e77ce-bc57-41aa-b4b9-1c71169a0133",
   "metadata": {},
   "outputs": [],
   "source": [
    "from sqlite3 import connect\n",
    "import pandas as pd"
   ]
  },
  {
   "cell_type": "code",
   "execution_count": 3,
   "id": "fa427098-5f4d-4e5c-8252-0fc75683bfd3",
   "metadata": {},
   "outputs": [],
   "source": [
    "connection = connect('./items-1.db')"
   ]
  },
  {
   "cell_type": "code",
   "execution_count": 4,
   "id": "0298aa94-3a18-4b6a-9fe9-181941addf1c",
   "metadata": {},
   "outputs": [],
   "source": [
    "df = pd.read_sql('select * from categories_sub_view', con=connection)"
   ]
  },
  {
   "cell_type": "code",
   "execution_count": 6,
   "id": "944423db-bd43-468e-91e4-a458e933227f",
   "metadata": {},
   "outputs": [],
   "source": [
    "df.to_excel('categories.xlsx')"
   ]
  },
  {
   "cell_type": "code",
   "execution_count": 9,
   "id": "dc490f4c-6da8-47a7-a4f5-fe989dd29327",
   "metadata": {},
   "outputs": [],
   "source": [
    "df = pd.read_sql('select * from pharmacies_view', con=connection)"
   ]
  },
  {
   "cell_type": "code",
   "execution_count": 11,
   "id": "2955a743-6d03-4b61-bd69-543c76018457",
   "metadata": {},
   "outputs": [],
   "source": [
    "df.to_excel('pharmacies.xlsx')"
   ]
  }
 ],
 "metadata": {
  "kernelspec": {
   "display_name": "Python 3 (ipykernel)",
   "language": "python",
   "name": "python3"
  },
  "language_info": {
   "codemirror_mode": {
    "name": "ipython",
    "version": 3
   },
   "file_extension": ".py",
   "mimetype": "text/x-python",
   "name": "python",
   "nbconvert_exporter": "python",
   "pygments_lexer": "ipython3",
   "version": "3.12.1"
  }
 },
 "nbformat": 4,
 "nbformat_minor": 5
}
