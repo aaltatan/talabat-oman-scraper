{
 "cells": [
  {
   "cell_type": "code",
   "execution_count": 17,
   "id": "1f2dd594-6170-47c2-8cd3-2d83bb068f20",
   "metadata": {},
   "outputs": [],
   "source": [
    "import pandas as pd\n",
    "import numpy as np\n",
    "from flatten_json import flatten\n",
    "import json"
   ]
  },
  {
   "cell_type": "code",
   "execution_count": 18,
   "id": "04629ce4-2f85-48dd-b5b8-cac7ac89982e",
   "metadata": {},
   "outputs": [],
   "source": [
    "def flat_cuisines(lst: list) -> str:\n",
    "    if type(lst) is float:\n",
    "        return lst\n",
    "    return \", \".join([c['name'] for c in lst])"
   ]
  },
  {
   "cell_type": "code",
   "execution_count": 19,
   "id": "f85ca06c-0578-4663-9565-8a88ded07bf8",
   "metadata": {},
   "outputs": [],
   "source": [
    "def flat_payment_methods(lst) -> str:\n",
    "    if type(lst) is float:\n",
    "        return lst\n",
    "    return \", \".join([c['text'].replace('common:', '').replace('.translation', '') for c in lst])"
   ]
  },
  {
   "cell_type": "code",
   "execution_count": 20,
   "id": "fab7dc79-fe9b-4a1b-9c0a-c98a202c51cf",
   "metadata": {},
   "outputs": [],
   "source": [
    "with open('sitemap_4.jsonl', 'r', encoding='utf-8') as file:\n",
    "    data = (json.loads(line[:-1]) for line in file.readlines())"
   ]
  },
  {
   "cell_type": "code",
   "execution_count": 21,
   "id": "85f5f629-021c-4c4b-a8ca-5d44935044b2",
   "metadata": {},
   "outputs": [],
   "source": [
    "df = pd.json_normalize(data)"
   ]
  },
  {
   "cell_type": "code",
   "execution_count": 23,
   "id": "8a1b343f",
   "metadata": {},
   "outputs": [],
   "source": [
    "df['availablePaymentMethods'] = df['availablePaymentMethods'].apply(flat_payment_methods)"
   ]
  },
  {
   "cell_type": "code",
   "execution_count": 25,
   "id": "98d4cd64",
   "metadata": {},
   "outputs": [],
   "source": [
    "pd.set_option('display.max_columns', 100)"
   ]
  },
  {
   "cell_type": "code",
   "execution_count": 27,
   "id": "24d1a50e",
   "metadata": {},
   "outputs": [],
   "source": [
    "df['cuisines'] = df['cuisines'].apply(flat_cuisines)"
   ]
  },
  {
   "cell_type": "code",
   "execution_count": 29,
   "id": "64b57631",
   "metadata": {},
   "outputs": [],
   "source": [
    "df = df.drop(['filtersIds'], axis='columns')"
   ]
  },
  {
   "cell_type": "code",
   "execution_count": 32,
   "id": "beae329b",
   "metadata": {},
   "outputs": [],
   "source": [
    "df = df.drop_duplicates()"
   ]
  },
  {
   "cell_type": "code",
   "execution_count": 34,
   "id": "fe5d4636",
   "metadata": {},
   "outputs": [],
   "source": [
    "df.to_csv('data.csv')"
   ]
  }
 ],
 "metadata": {
  "kernelspec": {
   "display_name": "Python 3 (ipykernel)",
   "language": "python",
   "name": "python3"
  },
  "language_info": {
   "codemirror_mode": {
    "name": "ipython",
    "version": 3
   },
   "file_extension": ".py",
   "mimetype": "text/x-python",
   "name": "python",
   "nbconvert_exporter": "python",
   "pygments_lexer": "ipython3",
   "version": "3.12.3"
  }
 },
 "nbformat": 4,
 "nbformat_minor": 5
}
